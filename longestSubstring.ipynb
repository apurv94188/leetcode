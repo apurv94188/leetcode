class Solution:
    
    def checkPalindrome(self, checkStr):
        
        i=0
        charMatch = True
        strLastIndex = len(checkStr)-1
        
        while i < (strLastIndex-i):
            
            if checkStr[i] != checkStr[strLastIndex-i]:
                return False
            i +=1
        
        return True
        
    
    def longestPalindrome(self, s):
        """
        :type s: str
        :rtype: str
        """
        s = s.lower()
        t = sorted(list(range(0, len(s))),reverse=True)
        for plm_len in t:
            
            offset = 0
            while((offset+plm_len) < len(s)):
                checkStr = s[offset:(offset+plm_len+1)]
                isPalindrome = self.checkPalindrome(checkStr)
                
                if isPalindrome:
                    return checkStr
                offset += 1
                
h=Solution()
h.longestPalindrome("dsafdsAlletsDellacallEdStellagtredsdasasf")
#h.longestPalindrome("Alla")
